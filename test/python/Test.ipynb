{
 "cells": [
  {
   "cell_type": "code",
   "execution_count": 1,
   "metadata": {},
   "outputs": [],
   "source": [
    "import usb.core\n",
    "import usb.util\n",
    "\n",
    "EP_IN  = 0x82\n",
    "EP_OUT = 0x2"
   ]
  },
  {
   "cell_type": "code",
   "execution_count": 2,
   "metadata": {},
   "outputs": [],
   "source": [
    "# find FT600\n",
    "dev = usb.core.find(idVendor=0x0403, idProduct=0x601e)\n",
    "for config in dev:  \n",
    "    # The device was getting \"Err 16 busy\" on my ubuntu\n",
    "    for i in range(config.bNumInterfaces):\n",
    "        if dev.is_kernel_driver_active(i):\n",
    "            dev.detach_kernel_driver(i) \n",
    "dev.reset()\n",
    "\n",
    "try:\n",
    "    dev.set_configuration()\n",
    "except:\n",
    "    print(\"Already connected\")\n",
    "EP = []\n",
    "\n",
    "for cfg in dev:\n",
    "    for iface in cfg:\n",
    "        for ep in iface:\n",
    "            ep_dir = usb.util.endpoint_direction(ep.bEndpointAddress)\n",
    "            ep_type = usb.util.endpoint_type(ep.bmAttributes)\n",
    "            EP.append(ep)\n",
    "            #print(ep)"
   ]
  },
  {
   "cell_type": "code",
   "execution_count": 3,
   "metadata": {},
   "outputs": [
    {
     "data": {
      "text/plain": [
       "[<ENDPOINT 0x1: Bulk OUT>,\n",
       " <ENDPOINT 0x81: Interrupt IN>,\n",
       " <ENDPOINT 0x2: Bulk OUT>,\n",
       " <ENDPOINT 0x82: Bulk IN>]"
      ]
     },
     "execution_count": 3,
     "metadata": {},
     "output_type": "execute_result"
    }
   ],
   "source": [
    "EP"
   ]
  },
  {
   "cell_type": "code",
   "execution_count": 8,
   "metadata": {},
   "outputs": [],
   "source": [
    "k = dev.write(0x02, b'\\x12\\x34\\x56\\x78' * (4096//2) )"
   ]
  },
  {
   "cell_type": "code",
   "execution_count": 12,
   "metadata": {},
   "outputs": [
    {
     "ename": "USBTimeoutError",
     "evalue": "[Errno 110] Operation timed out",
     "output_type": "error",
     "traceback": [
      "\u001b[0;31m---------------------------------------------------------------------------\u001b[0m",
      "\u001b[0;31mUSBTimeoutError\u001b[0m                           Traceback (most recent call last)",
      "\u001b[0;32m<ipython-input-12-cc052d62662c>\u001b[0m in \u001b[0;36m<module>\u001b[0;34m()\u001b[0m\n\u001b[0;32m----> 1\u001b[0;31m \u001b[0mdev\u001b[0m\u001b[0;34m.\u001b[0m\u001b[0mread\u001b[0m\u001b[0;34m(\u001b[0m\u001b[0mEP\u001b[0m\u001b[0;34m[\u001b[0m\u001b[0;34m-\u001b[0m\u001b[0;36m1\u001b[0m\u001b[0;34m]\u001b[0m\u001b[0;34m,\u001b[0m \u001b[0;36m4096\u001b[0m\u001b[0;34m)\u001b[0m  \u001b[0;31m#<ENDPOINT 0x1: Bulk OUT>,\u001b[0m\u001b[0;34m\u001b[0m\u001b[0;34m\u001b[0m\u001b[0m\n\u001b[0m",
      "\u001b[0;32m/home/pi/.local/lib/python3.7/site-packages/usb/core.py\u001b[0m in \u001b[0;36mread\u001b[0;34m(self, endpoint, size_or_buffer, timeout)\u001b[0m\n\u001b[1;32m   1022\u001b[0m                 \u001b[0mintf\u001b[0m\u001b[0;34m.\u001b[0m\u001b[0mbInterfaceNumber\u001b[0m\u001b[0;34m,\u001b[0m\u001b[0;34m\u001b[0m\u001b[0;34m\u001b[0m\u001b[0m\n\u001b[1;32m   1023\u001b[0m                 \u001b[0mbuff\u001b[0m\u001b[0;34m,\u001b[0m\u001b[0;34m\u001b[0m\u001b[0;34m\u001b[0m\u001b[0m\n\u001b[0;32m-> 1024\u001b[0;31m                 self.__get_timeout(timeout))\n\u001b[0m\u001b[1;32m   1025\u001b[0m \u001b[0;34m\u001b[0m\u001b[0m\n\u001b[1;32m   1026\u001b[0m         \u001b[0;32mif\u001b[0m \u001b[0misinstance\u001b[0m\u001b[0;34m(\u001b[0m\u001b[0msize_or_buffer\u001b[0m\u001b[0;34m,\u001b[0m \u001b[0marray\u001b[0m\u001b[0;34m.\u001b[0m\u001b[0marray\u001b[0m\u001b[0;34m)\u001b[0m\u001b[0;34m:\u001b[0m\u001b[0;34m\u001b[0m\u001b[0;34m\u001b[0m\u001b[0m\n",
      "\u001b[0;32m/home/pi/.local/lib/python3.7/site-packages/usb/backend/libusb1.py\u001b[0m in \u001b[0;36mbulk_read\u001b[0;34m(self, dev_handle, ep, intf, buff, timeout)\u001b[0m\n\u001b[1;32m    849\u001b[0m                            \u001b[0mintf\u001b[0m\u001b[0;34m,\u001b[0m\u001b[0;34m\u001b[0m\u001b[0;34m\u001b[0m\u001b[0m\n\u001b[1;32m    850\u001b[0m                            \u001b[0mbuff\u001b[0m\u001b[0;34m,\u001b[0m\u001b[0;34m\u001b[0m\u001b[0;34m\u001b[0m\u001b[0m\n\u001b[0;32m--> 851\u001b[0;31m                            timeout)\n\u001b[0m\u001b[1;32m    852\u001b[0m \u001b[0;34m\u001b[0m\u001b[0m\n\u001b[1;32m    853\u001b[0m     \u001b[0;34m@\u001b[0m\u001b[0mmethodtrace\u001b[0m\u001b[0;34m(\u001b[0m\u001b[0m_logger\u001b[0m\u001b[0;34m)\u001b[0m\u001b[0;34m\u001b[0m\u001b[0;34m\u001b[0m\u001b[0m\n",
      "\u001b[0;32m/home/pi/.local/lib/python3.7/site-packages/usb/backend/libusb1.py\u001b[0m in \u001b[0;36m__read\u001b[0;34m(self, fn, dev_handle, ep, intf, buff, timeout)\u001b[0m\n\u001b[1;32m    952\u001b[0m         \u001b[0;31m# do not assume LIBUSB_ERROR_TIMEOUT means no I/O.\u001b[0m\u001b[0;34m\u001b[0m\u001b[0;34m\u001b[0m\u001b[0;34m\u001b[0m\u001b[0m\n\u001b[1;32m    953\u001b[0m         \u001b[0;32mif\u001b[0m \u001b[0;32mnot\u001b[0m \u001b[0;34m(\u001b[0m\u001b[0mtransferred\u001b[0m\u001b[0;34m.\u001b[0m\u001b[0mvalue\u001b[0m \u001b[0;32mand\u001b[0m \u001b[0mretval\u001b[0m \u001b[0;34m==\u001b[0m \u001b[0mLIBUSB_ERROR_TIMEOUT\u001b[0m\u001b[0;34m)\u001b[0m\u001b[0;34m:\u001b[0m\u001b[0;34m\u001b[0m\u001b[0;34m\u001b[0m\u001b[0m\n\u001b[0;32m--> 954\u001b[0;31m             \u001b[0m_check\u001b[0m\u001b[0;34m(\u001b[0m\u001b[0mretval\u001b[0m\u001b[0;34m)\u001b[0m\u001b[0;34m\u001b[0m\u001b[0;34m\u001b[0m\u001b[0m\n\u001b[0m\u001b[1;32m    955\u001b[0m         \u001b[0;32mreturn\u001b[0m \u001b[0mtransferred\u001b[0m\u001b[0;34m.\u001b[0m\u001b[0mvalue\u001b[0m\u001b[0;34m\u001b[0m\u001b[0;34m\u001b[0m\u001b[0m\n\u001b[1;32m    956\u001b[0m \u001b[0;34m\u001b[0m\u001b[0m\n",
      "\u001b[0;32m/home/pi/.local/lib/python3.7/site-packages/usb/backend/libusb1.py\u001b[0m in \u001b[0;36m_check\u001b[0;34m(ret)\u001b[0m\n\u001b[1;32m    600\u001b[0m             \u001b[0;32mraise\u001b[0m \u001b[0mNotImplementedError\u001b[0m\u001b[0;34m(\u001b[0m\u001b[0m_strerror\u001b[0m\u001b[0;34m(\u001b[0m\u001b[0mret\u001b[0m\u001b[0;34m)\u001b[0m\u001b[0;34m)\u001b[0m\u001b[0;34m\u001b[0m\u001b[0;34m\u001b[0m\u001b[0m\n\u001b[1;32m    601\u001b[0m         \u001b[0;32melif\u001b[0m \u001b[0mret\u001b[0m \u001b[0;34m==\u001b[0m \u001b[0mLIBUSB_ERROR_TIMEOUT\u001b[0m\u001b[0;34m:\u001b[0m\u001b[0;34m\u001b[0m\u001b[0;34m\u001b[0m\u001b[0m\n\u001b[0;32m--> 602\u001b[0;31m             \u001b[0;32mraise\u001b[0m \u001b[0mUSBTimeoutError\u001b[0m\u001b[0;34m(\u001b[0m\u001b[0m_strerror\u001b[0m\u001b[0;34m(\u001b[0m\u001b[0mret\u001b[0m\u001b[0;34m)\u001b[0m\u001b[0;34m,\u001b[0m \u001b[0mret\u001b[0m\u001b[0;34m,\u001b[0m \u001b[0m_libusb_errno\u001b[0m\u001b[0;34m[\u001b[0m\u001b[0mret\u001b[0m\u001b[0;34m]\u001b[0m\u001b[0;34m)\u001b[0m\u001b[0;34m\u001b[0m\u001b[0;34m\u001b[0m\u001b[0m\n\u001b[0m\u001b[1;32m    603\u001b[0m         \u001b[0;32melse\u001b[0m\u001b[0;34m:\u001b[0m\u001b[0;34m\u001b[0m\u001b[0;34m\u001b[0m\u001b[0m\n\u001b[1;32m    604\u001b[0m             \u001b[0;32mraise\u001b[0m \u001b[0mUSBError\u001b[0m\u001b[0;34m(\u001b[0m\u001b[0m_strerror\u001b[0m\u001b[0;34m(\u001b[0m\u001b[0mret\u001b[0m\u001b[0;34m)\u001b[0m\u001b[0;34m,\u001b[0m \u001b[0mret\u001b[0m\u001b[0;34m,\u001b[0m \u001b[0m_libusb_errno\u001b[0m\u001b[0;34m[\u001b[0m\u001b[0mret\u001b[0m\u001b[0;34m]\u001b[0m\u001b[0;34m)\u001b[0m\u001b[0;34m\u001b[0m\u001b[0;34m\u001b[0m\u001b[0m\n",
      "\u001b[0;31mUSBTimeoutError\u001b[0m: [Errno 110] Operation timed out"
     ]
    }
   ],
   "source": [
    "dev.read(EP[-1], 4096)  #<ENDPOINT 0x1: Bulk OUT>,"
   ]
  },
  {
   "cell_type": "markdown",
   "metadata": {},
   "source": [
    "# Setup FTDI side"
   ]
  },
  {
   "cell_type": "code",
   "execution_count": 1,
   "metadata": {},
   "outputs": [],
   "source": [
    "import sys;\n",
    "import select;\n",
    "import socket;\n",
    "import time;\n",
    "import os;\n",
    "import random;\n",
    "from time import sleep;"
   ]
  },
  {
   "cell_type": "code",
   "execution_count": 2,
   "metadata": {},
   "outputs": [
    {
     "name": "stdout",
     "output_type": "stream",
     "text": [
      "Loading linux facilities\n"
     ]
    }
   ],
   "source": [
    "import ftd3xx\n",
    "import sys\n",
    "import ftd3xx._ftd3xx_linux as _ft"
   ]
  },
  {
   "cell_type": "code",
   "execution_count": 3,
   "metadata": {},
   "outputs": [
    {
     "data": {
      "text/plain": [
       "'/home/pi/.local/lib/python3.7/site-packages/ftd3xx/__init__.py'"
      ]
     },
     "execution_count": 3,
     "metadata": {},
     "output_type": "execute_result"
    }
   ],
   "source": [
    "ftd3xx.__file__"
   ]
  },
  {
   "cell_type": "code",
   "execution_count": 4,
   "metadata": {},
   "outputs": [
    {
     "name": "stdout",
     "output_type": "stream",
     "text": [
      "1  Device\n",
      "[<ftd3xx._ftd3xx_linux._FT_DEVICE_LIST_INFO_NODE object at 0xb3d64df0>]\n"
     ]
    }
   ],
   "source": [
    "numDevices = ftd3xx.createDeviceInfoList()\n",
    "if (numDevices == 0):\n",
    "    print(\"ERROR: No FTD3XX device is detected.\");\n",
    "else:\n",
    "    print(numDevices,\" Device\")\n",
    "devList = ftd3xx.getDeviceInfoList()\n",
    "print(devList)\n",
    "# Just open the first device (index 0)\n",
    "devIndex = 0;\n",
    "D3XX = ftd3xx.create(devIndex, _ft.FT_OPEN_BY_INDEX);  "
   ]
  },
  {
   "cell_type": "code",
   "execution_count": 5,
   "metadata": {},
   "outputs": [
    {
     "name": "stdout",
     "output_type": "stream",
     "text": [
      "CLK:  1\n",
      "Mode:  0\n",
      "FlashEEPROMDetection:  16\n",
      "VID/PID: 0x60 0x1e\n"
     ]
    }
   ],
   "source": [
    "cfg = D3XX.getChipConfiguration();\n",
    "print(\"CLK: \",cfg.FIFOClock)\n",
    "print(\"Mode: \",cfg.FIFOMode)\n",
    "print(\"FlashEEPROMDetection: \",cfg.FlashEEPROMDetection)\n",
    "VP = D3XX.getVIDPID()\n",
    "print(\"VID/PID:\",hex(VP[0]), hex(VP[1]))"
   ]
  },
  {
   "cell_type": "code",
   "execution_count": 20,
   "metadata": {},
   "outputs": [],
   "source": [
    "# Reset the FT600 to make sure starting fresh with nothing in FIFOs\n",
    "D3XX.resetDevicePort(); # Flush\n",
    "D3XX.close();"
   ]
  },
  {
   "cell_type": "code",
   "execution_count": 7,
   "metadata": {},
   "outputs": [
    {
     "data": {
      "text/plain": [
       "1"
      ]
     },
     "execution_count": 7,
     "metadata": {},
     "output_type": "execute_result"
    }
   ],
   "source": [
    "\n",
    "D3XX = ftd3xx.create(devIndex, _ft.FT_OPEN_BY_INDEX);\n",
    "\n",
    "# check if USB3 or USB2\n",
    "devDesc = D3XX.getDeviceDescriptor();\n",
    "bUSB3 = devDesc.bcdUSB >= 0x300;\n",
    "\n",
    "# validate chip configuration\n",
    "cfg = D3XX.getChipConfiguration();\n",
    "cfg.FIFOClock"
   ]
  },
  {
   "cell_type": "code",
   "execution_count": 8,
   "metadata": {},
   "outputs": [],
   "source": [
    "D3XX.setChipConfiguration(cfg);"
   ]
  },
  {
   "cell_type": "code",
   "execution_count": 9,
   "metadata": {},
   "outputs": [],
   "source": [
    "desired_freq = 1;# 1=66 MHz, 0=100 MHz\n",
    "if ( cfg.FIFOClock != desired_freq ):\n",
    "    print(\"Changing FT600 Frequency\");\n",
    "    cfg.FIFOClock = desired_freq;\n",
    "    D3XX.setChipConfiguration(cfg);\n",
    "D3XX.resetDevicePort(); # Flush\n",
    "D3XX.close();"
   ]
  },
  {
   "cell_type": "code",
   "execution_count": 10,
   "metadata": {},
   "outputs": [
    {
     "name": "stdout",
     "output_type": "stream",
     "text": [
      "1  Device\n",
      "[<ftd3xx._ftd3xx_linux._FT_DEVICE_LIST_INFO_NODE object at 0xb33cfd00>]\n"
     ]
    }
   ],
   "source": [
    "numDevices = ftd3xx.createDeviceInfoList()\n",
    "if (numDevices == 0):\n",
    "    print(\"ERROR: No FTD3XX device is detected.\");\n",
    "else:\n",
    "    print(numDevices,\" Device\")\n",
    "devList = ftd3xx.getDeviceInfoList()\n",
    "print(devList)\n",
    "devIndex = 0;\n",
    "D3XX = ftd3xx.create(devIndex, _ft.FT_OPEN_BY_INDEX);\n"
   ]
  },
  {
   "cell_type": "code",
   "execution_count": 11,
   "metadata": {},
   "outputs": [
    {
     "name": "stdout",
     "output_type": "stream",
     "text": [
      "\tVendorID = 0x0403\n",
      "\tProductID = 0x601e\n"
     ]
    },
    {
     "data": {
      "text/plain": [
       "(0, 265)"
      ]
     },
     "execution_count": 11,
     "metadata": {},
     "output_type": "execute_result"
    }
   ],
   "source": [
    "cfg = D3XX.getChipConfiguration();\n",
    "cfg.FIFOClock\n",
    "\n",
    "cfg = D3XX.getChipConfiguration();\n",
    "print(\"\\tVendorID = %#06x\" % cfg.VendorID)\n",
    "print(\"\\tProductID = %#06x\" % cfg.ProductID)\n",
    "cfg.FIFOMode,D3XX.getFirmwareVersion()"
   ]
  },
  {
   "cell_type": "code",
   "execution_count": 12,
   "metadata": {},
   "outputs": [],
   "source": [
    "import ctypes"
   ]
  },
  {
   "cell_type": "code",
   "execution_count": 13,
   "metadata": {},
   "outputs": [],
   "source": [
    "conf = _ft.FT_TRANSFER_CONF();\n",
    "conf.wStructSize = ctypes.sizeof(_ft.FT_TRANSFER_CONF);\n",
    "conf.pipe[_ft.FT_PIPE_DIR_IN].fPipeNotUsed = True;\n",
    "conf.pipe[_ft.FT_PIPE_DIR_OUT].fPipeNotUsed = True;\n",
    "conf.pipe.fReserved = False;\n",
    "conf.pipe.fKeepDeviceSideBufferAfterReopen = False;\n",
    "for i in range(4):\n",
    "    ftd3xx.setTransferParams(conf, i);"
   ]
  },
  {
   "cell_type": "code",
   "execution_count": 14,
   "metadata": {},
   "outputs": [
    {
     "name": "stdout",
     "output_type": "stream",
     "text": [
      "linux\n"
     ]
    }
   ],
   "source": [
    "print(sys.platform)\n",
    "def ReadPipe(D3XX, pipe, size):\n",
    "\n",
    "    if sys.platform == 'linux':\n",
    "        pipe -= 0x82\n",
    "    print(\"Pipe, \",pipe)\n",
    "    return D3XX.readPipeEx(pipe, size)\n",
    "\n",
    "def CancelPipe(D3XX, pipe):\n",
    "\n",
    "    if sys.platform == 'linux':\n",
    "        return D3XX.flushPipe(pipe)\n",
    "\n",
    "    return D3XX.abortPipe(pipe)"
   ]
  },
  {
   "cell_type": "code",
   "execution_count": 15,
   "metadata": {},
   "outputs": [],
   "source": [
    "# Call before FT_Create when non-transfer functions will be called\n",
    "# Only needed for RevA chip (Firmware 1.0.2)\n",
    "# Not necessary starting RevB chip (Firmware 1.0.9)\n",
    "conf = _ft.FT_TRANSFER_CONF();\n",
    "conf.wStructSize = ctypes.sizeof(_ft.FT_TRANSFER_CONF);\n",
    "conf.pipe[_ft.FT_PIPE_DIR_IN].fPipeNotUsed = True;\n",
    "conf.pipe[_ft.FT_PIPE_DIR_OUT].fPipeNotUsed = True;\n",
    "conf.pipe.fReserved = False;\n",
    "conf.pipe.fKeepDeviceSideBufferAfterReopen = False;\n",
    "for i in range(4):\n",
    "    ftd3xx.setTransferParams(conf, i);\n"
   ]
  },
  {
   "cell_type": "code",
   "execution_count": 16,
   "metadata": {},
   "outputs": [
    {
     "data": {
      "text/plain": [
       "0"
      ]
     },
     "execution_count": 16,
     "metadata": {},
     "output_type": "execute_result"
    }
   ],
   "source": [
    "D3XX.getLastError()"
   ]
  },
  {
   "cell_type": "code",
   "execution_count": 17,
   "metadata": {},
   "outputs": [
    {
     "data": {
      "text/plain": [
       "1"
      ]
     },
     "execution_count": 17,
     "metadata": {},
     "output_type": "execute_result"
    }
   ],
   "source": [
    "numChannels = [4, 2, 1, 0, 0]\n",
    "numChannels = numChannels[cfg.ChannelConfig]\n",
    "numChannels"
   ]
  },
  {
   "cell_type": "code",
   "execution_count": 19,
   "metadata": {},
   "outputs": [
    {
     "name": "stdout",
     "output_type": "stream",
     "text": [
      "Pipe,  0\n"
     ]
    },
    {
     "data": {
      "text/plain": [
       "{'bytesTransferred': 4096,\n",
       " 'bytes': b'\\x06\\xff\\x07\\xff\\x0c\\xff\\r\\xff\\x0e\\xff\\x0f\\xff\\x10\\xff\\x11\\xff\\x12\\xff\\x13\\xff\\x18\\xff\\x19\\xff\\x1a\\xff\\x1b\\xff\\x14\\xff\\x15\\xff\\x16\\xff\\x17\\xff\\x1c\\xff\\x1d\\xff\\x1e\\xff\\x1f\\xff \\xff!\\xff\"\\xff#\\xff(\\xff)\\xff*\\xff+\\xff$\\xff%\\xff&\\xff\\'\\xff,\\xff-\\xff.\\xff/\\xff0\\xff1\\xff2\\xff3\\xff8\\xff9\\xff:\\xff;\\xff4\\xff5\\xff6\\xff7\\xff<\\xff=\\xff>\\xff?\\xff@\\xffA\\xffB\\xffC\\xffH\\xffI\\xffJ\\xffK\\xffD\\xffE\\xffF\\xffG\\xffL\\xffM\\xffN\\xffO\\xffP\\xffQ\\xffR\\xffS\\xffX\\xffY\\xffZ\\xff[\\xffT\\xffU\\xffV\\xffW\\xff\\\\\\xff]\\xff^\\xff_\\xff`\\xffa\\xffb\\xffc\\xffh\\xffi\\xffj\\xffk\\xffd\\xffe\\xfff\\xffg\\xffl\\xffm\\xffn\\xffo\\xffp\\xffq\\xffr\\xffs\\xffx\\xffy\\xffz\\xff{\\xfft\\xffu\\xffv\\xffw\\xff|\\xff}\\xff~\\xff\\x7f\\xff\\x80\\xff\\x81\\xff\\x82\\xff\\x83\\xff\\x88\\xff\\x89\\xff\\x8a\\xff\\x8b\\xff\\x84\\xff\\x85\\xff\\x86\\xff\\x87\\xff\\x8c\\xff\\x8d\\xff\\x8e\\xff\\x8f\\xff\\x90\\xff\\x91\\xff\\x92\\xff\\x93\\xff\\x98\\xff\\x99\\xff\\x9a\\xff\\x9b\\xff\\x94\\xff\\x95\\xff\\x96\\xff\\x97\\xff\\x9c\\xff\\x9d\\xff\\x9e\\xff\\x9f\\xff\\xa0\\xff\\xa1\\xff\\xa2\\xff\\xa3\\xff\\xa8\\xff\\xa9\\xff\\xaa\\xff\\xab\\xff\\xa4\\xff\\xa5\\xff\\xa6\\xff\\xa7\\xff\\xac\\xff\\xad\\xff\\xae\\xff\\xaf\\xff\\xb0\\xff\\xb1\\xff\\xb2\\xff\\xb3\\xff\\xb8\\xff\\xb9\\xff\\xba\\xff\\xbb\\xff\\xb4\\xff\\xb5\\xff\\xb6\\xff\\xb7\\xff\\xbc\\xff\\xbd\\xff\\xbe\\xff\\xbf\\xff\\xc0\\xff\\xc1\\xff\\xc2\\xff\\xc3\\xff\\xc8\\xff\\xc9\\xff\\xca\\xff\\xcb\\xff\\xc4\\xff\\xc5\\xff\\xc6\\xff\\xc7\\xff\\xcc\\xff\\xcd\\xff\\xce\\xff\\xcf\\xff\\xd0\\xff\\xd1\\xff\\xd2\\xff\\xd3\\xff\\xd8\\xff\\xd9\\xff\\xda\\xff\\xdb\\xff\\xd4\\xff\\xd5\\xff\\xd6\\xff\\xd7\\xff\\xdc\\xff\\xdd\\xff\\xde\\xff\\xdf\\xff\\xe0\\xff\\xe1\\xff\\xe2\\xff\\xe3\\xff\\xe8\\xff\\xe9\\xff\\xea\\xff\\xeb\\xff\\xe4\\xff\\xe5\\xff\\xe6\\xff\\xe7\\xff\\xec\\xff\\xed\\xff\\xee\\xff\\xef\\xff\\xf0\\xff\\xf1\\xff\\xf2\\xff\\xf3\\xff\\xf8\\xff\\xf9\\xff\\xfa\\xff\\xfb\\xff\\xf4\\xff\\xf5\\xff\\xf6\\xff\\xf7\\xff\\xfc\\xff\\xfd\\xff\\xfe\\xff\\xff\\xff'}"
      ]
     },
     "execution_count": 19,
     "metadata": {},
     "output_type": "execute_result"
    }
   ],
   "source": [
    "ReadPipe(D3XX,  0x82, 4096)"
   ]
  },
  {
   "cell_type": "code",
   "execution_count": 22,
   "metadata": {},
   "outputs": [],
   "source": [
    "D3XX.resetDevicePort(); # Flush\n",
    "D3XX.close();"
   ]
  },
  {
   "cell_type": "code",
   "execution_count": null,
   "metadata": {},
   "outputs": [],
   "source": []
  }
 ],
 "metadata": {
  "kernelspec": {
   "display_name": "Python 3",
   "language": "python",
   "name": "python3"
  },
  "language_info": {
   "codemirror_mode": {
    "name": "ipython",
    "version": 3
   },
   "file_extension": ".py",
   "mimetype": "text/x-python",
   "name": "python",
   "nbconvert_exporter": "python",
   "pygments_lexer": "ipython3",
   "version": "3.7.3"
  }
 },
 "nbformat": 4,
 "nbformat_minor": 2
}
